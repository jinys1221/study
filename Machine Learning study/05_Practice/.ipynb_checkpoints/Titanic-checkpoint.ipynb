{
 "cells": [
  {
   "cell_type": "markdown",
   "id": "7551f78c-72fc-48fc-b3e2-9145cdf28040",
   "metadata": {},
   "source": [
    "# **Titanic Classifier**"
   ]
  },
  {
   "cell_type": "markdown",
   "id": "adfe3381-0b00-4c93-8251-72fd6e93fc35",
   "metadata": {},
   "source": [
    "## 1. 라이브러리 불러오기\n",
    "실습에서 사용할 seaborn, sklearn, matplot, pandas 라이브러리를 불러옵니다."
   ]
  },
  {
   "cell_type": "code",
   "execution_count": 17,
   "id": "a3bb1592-e371-4069-b177-71b0b0ca94c3",
   "metadata": {},
   "outputs": [],
   "source": [
    "import seaborn as sns\n",
    "from sklearn.model_selection import train_test_split\n",
    "from sklearn.metrics import accuracy_score\n",
    "from sklearn.impute import SimpleImputer\n",
    "from sklearn.preprocessing import StandardScaler, OneHotEncoder\n",
    "from sklearn.pipeline import Pipeline\n",
    "from sklearn.compose import ColumnTransformer\n",
    "import matplotlib.pyplot as plt\n",
    "import pandas as pd"
   ]
  },
  {
   "cell_type": "markdown",
   "id": "8053f6b6-fc7c-49f5-856a-61dd7edf2336",
   "metadata": {},
   "source": [
    "## 2. 데이터 로드\n",
    "seaborn 라이브러리의 타이타닉 데이터셋를 로드합니다."
   ]
  },
  {
   "cell_type": "code",
   "execution_count": 2,
   "id": "865c74ea-6b61-4e01-a830-5bf5b3d1b995",
   "metadata": {},
   "outputs": [],
   "source": [
    "titanic = sns.load_dataset(\"titanic\")"
   ]
  },
  {
   "cell_type": "markdown",
   "id": "7041943c-54ee-473f-8c03-bbf3440dbe60",
   "metadata": {},
   "source": [
    "## 3. DataFrame 구조 확인 및 전처리\n",
    "- DataFrame 구조"
   ]
  },
  {
   "cell_type": "code",
   "execution_count": 3,
   "id": "6c09061b-55ed-456e-8a25-e370995abd01",
   "metadata": {},
   "outputs": [
    {
     "name": "stdout",
     "output_type": "stream",
     "text": [
      "<class 'pandas.core.frame.DataFrame'>\n",
      "RangeIndex: 891 entries, 0 to 890\n",
      "Data columns (total 15 columns):\n",
      " #   Column       Non-Null Count  Dtype   \n",
      "---  ------       --------------  -----   \n",
      " 0   survived     891 non-null    int64   \n",
      " 1   pclass       891 non-null    int64   \n",
      " 2   sex          891 non-null    object  \n",
      " 3   age          714 non-null    float64 \n",
      " 4   sibsp        891 non-null    int64   \n",
      " 5   parch        891 non-null    int64   \n",
      " 6   fare         891 non-null    float64 \n",
      " 7   embarked     889 non-null    object  \n",
      " 8   class        891 non-null    category\n",
      " 9   who          891 non-null    object  \n",
      " 10  adult_male   891 non-null    bool    \n",
      " 11  deck         203 non-null    category\n",
      " 12  embark_town  889 non-null    object  \n",
      " 13  alive        891 non-null    object  \n",
      " 14  alone        891 non-null    bool    \n",
      "dtypes: bool(2), category(2), float64(2), int64(4), object(5)\n",
      "memory usage: 80.7+ KB\n",
      "None\n",
      "<bound method NDFrame.describe of      survived  pclass     sex   age  sibsp  parch     fare embarked   class  \\\n",
      "0           0       3    male  22.0      1      0   7.2500        S   Third   \n",
      "1           1       1  female  38.0      1      0  71.2833        C   First   \n",
      "2           1       3  female  26.0      0      0   7.9250        S   Third   \n",
      "3           1       1  female  35.0      1      0  53.1000        S   First   \n",
      "4           0       3    male  35.0      0      0   8.0500        S   Third   \n",
      "..        ...     ...     ...   ...    ...    ...      ...      ...     ...   \n",
      "886         0       2    male  27.0      0      0  13.0000        S  Second   \n",
      "887         1       1  female  19.0      0      0  30.0000        S   First   \n",
      "888         0       3  female   NaN      1      2  23.4500        S   Third   \n",
      "889         1       1    male  26.0      0      0  30.0000        C   First   \n",
      "890         0       3    male  32.0      0      0   7.7500        Q   Third   \n",
      "\n",
      "       who  adult_male deck  embark_town alive  alone  \n",
      "0      man        True  NaN  Southampton    no  False  \n",
      "1    woman       False    C    Cherbourg   yes  False  \n",
      "2    woman       False  NaN  Southampton   yes   True  \n",
      "3    woman       False    C  Southampton   yes  False  \n",
      "4      man        True  NaN  Southampton    no   True  \n",
      "..     ...         ...  ...          ...   ...    ...  \n",
      "886    man        True  NaN  Southampton    no   True  \n",
      "887  woman       False    B  Southampton   yes   True  \n",
      "888  woman       False  NaN  Southampton    no  False  \n",
      "889    man        True    C    Cherbourg   yes   True  \n",
      "890    man        True  NaN   Queenstown    no   True  \n",
      "\n",
      "[891 rows x 15 columns]>\n"
     ]
    }
   ],
   "source": [
    "print(titanic.info())\n",
    "\n",
    "print(titanic.describe)"
   ]
  },
  {
   "cell_type": "markdown",
   "id": "3785b6e9-276c-478d-8a51-faec2f6139c6",
   "metadata": {},
   "source": [
    "- `전처리`  \n",
    "전처리를 진행하기 전에 위 수치형 데이터에서 결측치 확인을 합니다."
   ]
  },
  {
   "cell_type": "code",
   "execution_count": 4,
   "id": "c4c27943-cecb-4f61-a72c-2eb1aca19654",
   "metadata": {},
   "outputs": [
    {
     "name": "stdout",
     "output_type": "stream",
     "text": [
      "survived         0\n",
      "pclass           0\n",
      "sex              0\n",
      "age            177\n",
      "sibsp            0\n",
      "parch            0\n",
      "fare             0\n",
      "embarked         2\n",
      "class            0\n",
      "who              0\n",
      "adult_male       0\n",
      "deck           688\n",
      "embark_town      2\n",
      "alive            0\n",
      "alone            0\n",
      "dtype: int64\n"
     ]
    }
   ],
   "source": [
    "print(titanic.isnull().sum())"
   ]
  },
  {
   "cell_type": "code",
   "execution_count": 5,
   "id": "b8113062-123b-4d0f-8bd2-b559e0696fcf",
   "metadata": {},
   "outputs": [
    {
     "name": "stderr",
     "output_type": "stream",
     "text": [
      "C:\\Users\\jinhyeongsik\\AppData\\Local\\Temp\\ipykernel_4752\\2299741354.py:11: FutureWarning: A value is trying to be set on a copy of a DataFrame or Series through chained assignment using an inplace method.\n",
      "The behavior will change in pandas 3.0. This inplace method will never work because the intermediate object on which we are setting values always behaves as a copy.\n",
      "\n",
      "For example, when doing 'df[col].method(value, inplace=True)', try using 'df.method({col: value}, inplace=True)' or df[col] = df[col].method(value) instead, to perform the operation inplace on the original object.\n",
      "\n",
      "\n",
      "  titanic['age'].fillna(titanic['age'].mean(), inplace=True)\n",
      "C:\\Users\\jinhyeongsik\\AppData\\Local\\Temp\\ipykernel_4752\\2299741354.py:14: FutureWarning: A value is trying to be set on a copy of a DataFrame or Series through chained assignment using an inplace method.\n",
      "The behavior will change in pandas 3.0. This inplace method will never work because the intermediate object on which we are setting values always behaves as a copy.\n",
      "\n",
      "For example, when doing 'df[col].method(value, inplace=True)', try using 'df.method({col: value}, inplace=True)' or df[col] = df[col].method(value) instead, to perform the operation inplace on the original object.\n",
      "\n",
      "\n",
      "  titanic['embark_town'].fillna(titanic['embark_town'].mode()[0], inplace=True)\n"
     ]
    }
   ],
   "source": [
    "# 1. deck 컬럼 제거 (결측치가 너무 많다. 688/891)\n",
    "titanic.drop(columns='deck', inplace=True)\n",
    "\n",
    "# 2. 중복 컬럼 제거\n",
    "titanic.drop(columns='alive', inplace=True)\n",
    "titanic.drop(columns='class', inplace=True)\n",
    "titanic.drop(columns='adult_male', inplace=True)\n",
    "titanic.drop(columns='embarked', inplace=True)\n",
    "\n",
    "# 3. age의 값이 결코 무시할 수 없는 수치이기에 결측치를 평균으로 대체\n",
    "titanic['age'].fillna(titanic['age'].mean(), inplace=True)\n",
    "\n",
    "# 4. embarked의 값이 2로 무시할 수 있는 수치이기에 흔한 값인 최빈값으로 대체\n",
    "titanic['embark_town'].fillna(titanic['embark_town'].mode()[0], inplace=True)"
   ]
  },
  {
   "cell_type": "code",
   "execution_count": 6,
   "id": "9124185e-75df-4688-a6cb-fd4db5d7d042",
   "metadata": {},
   "outputs": [
    {
     "name": "stdout",
     "output_type": "stream",
     "text": [
      "survived       0\n",
      "pclass         0\n",
      "sex            0\n",
      "age            0\n",
      "sibsp          0\n",
      "parch          0\n",
      "fare           0\n",
      "who            0\n",
      "embark_town    0\n",
      "alone          0\n",
      "dtype: int64\n"
     ]
    }
   ],
   "source": [
    "# 전처리 잘 진행된건지 결측치 재확인\n",
    "print(titanic.isnull().sum())"
   ]
  },
  {
   "cell_type": "markdown",
   "id": "cc636f74-0046-4138-8ad6-bbd096200adc",
   "metadata": {},
   "source": [
    "## 4. X, y 분리 및 학습용/테스트용 분할\n",
    "- 승객의 생존 여부인 **survived**가 우리가 풀고하 하는 **예측 대상**  \n",
    "→ 따라서 다양한 feature들을 보고 **생존했을지**(**survived**)를 **예측**하는 것  \n",
    "\n",
    "* X(feature) : 입력 → pclass, sex, age, sibsp 등 // 예측에 사용하는 데이터(입력값)\n",
    "* y(label) : 타깃 → survived // 예측하고자 하는 결과값"
   ]
  },
  {
   "cell_type": "code",
   "execution_count": 7,
   "id": "fa37bfb6-b854-46ec-80fa-ac1aba8d8c23",
   "metadata": {},
   "outputs": [],
   "source": [
    "X = titanic.drop(columns=\"survived\")\n",
    "y = titanic[\"survived\"]\n",
    "\n",
    "X_train, X_test, y_train, y_test = train_test_split(\n",
    "    X, y, test_size=0.2, random_state=42)"
   ]
  },
  {
   "cell_type": "markdown",
   "id": "62da9569-7c61-49ad-bb42-22cd5202b11b",
   "metadata": {},
   "source": [
    "## 5. 컬럼 분리 및 파이프라인 설계"
   ]
  },
  {
   "cell_type": "code",
   "execution_count": 8,
   "id": "1740ebe5-8906-48b6-9c07-b7fb9dbabad7",
   "metadata": {},
   "outputs": [],
   "source": [
    "# 수치형/범주형 컬럼 분리\n",
    "number_features = [\"age\", \"fare\", \"sibsp\", \"parch\"]\n",
    "category_features = [\"sex\", \"who\", \"alone\", \"pclass\", \"embark_town\"]"
   ]
  },
  {
   "cell_type": "code",
   "execution_count": 9,
   "id": "ffbec9a7-7eaa-492a-a578-c4191db7bf39",
   "metadata": {},
   "outputs": [],
   "source": [
    "# 수치형 컬럼 전처리\n",
    "number_pipeline = Pipeline([\n",
    "    (\"imputer\", SimpleImputer(strategy=\"most_frequent\")),\n",
    "    (\"scaler\", StandardScaler())\n",
    "])\n",
    "\n",
    "# 범주형 컬럼 전처리\n",
    "category_pipeline = Pipeline([\n",
    "    (\"imputer\", SimpleImputer(strategy=\"most_frequent\")),\n",
    "    (\"encoder\", OneHotEncoder(handle_unknown=\"ignore\"))\n",
    "])\n",
    "\n",
    "# 컬럼 전처리 통합\n",
    "preprocessor = ColumnTransformer([\n",
    "    (\"number\", number_pipeline, number_features),\n",
    "    (\"category\", category_pipeline, category_features)\n",
    "])"
   ]
  },
  {
   "cell_type": "markdown",
   "id": "a0eb90d6-9e2a-4d77-b341-c33e368a2006",
   "metadata": {},
   "source": [
    "## 6. Pipeline에 여러 분류 모델 연결"
   ]
  },
  {
   "cell_type": "code",
   "execution_count": 10,
   "id": "c4dce871-e1a8-49b8-8880-1610afb62c06",
   "metadata": {},
   "outputs": [],
   "source": [
    "from sklearn.linear_model import LogisticRegression\n",
    "from sklearn.ensemble import RandomForestClassifier\n",
    "from sklearn.tree import DecisionTreeClassifier\n",
    "from sklearn.svm import SVC\n",
    "from sklearn.naive_bayes import GaussianNB\n",
    "\n",
    "models = {\n",
    "    \"LogisticRegression\": LogisticRegression(),\n",
    "    \"RandomForest\": RandomForestClassifier(),\n",
    "    \"DecisionTree\": DecisionTreeClassifier(),\n",
    "    \"SVC\": SVC(),\n",
    "    \"NaiveBayes\": GaussianNB()\n",
    "}"
   ]
  },
  {
   "cell_type": "markdown",
   "id": "c08f8642-698a-4bfd-8728-7c619ed945b1",
   "metadata": {},
   "source": [
    "## 7. 학습 및 평가"
   ]
  },
  {
   "cell_type": "code",
   "execution_count": 11,
   "id": "47781e38-a14b-4fda-9668-91d2d2f0ba27",
   "metadata": {},
   "outputs": [
    {
     "name": "stdout",
     "output_type": "stream",
     "text": [
      "LogisticRegression Accuracy: 0.810\n",
      "RandomForest Accuracy: 0.821\n",
      "DecisionTree Accuracy: 0.771\n",
      "SVC Accuracy: 0.816\n",
      "NaiveBayes Accuracy: 0.793\n"
     ]
    }
   ],
   "source": [
    "for name, model in models.items():\n",
    "    pipe = Pipeline([\n",
    "        (\"preprocessing\", preprocessor),\n",
    "        (\"classifier\", model)\n",
    "    ])\n",
    "    pipe.fit(X_train, y_train)\n",
    "    y_pred = pipe.predict(X_test)\n",
    "    acc = accuracy_score(y_test, y_pred)\n",
    "    print(f\"{name} Accuracy: {acc:.3f}\")"
   ]
  },
  {
   "cell_type": "markdown",
   "id": "543646ad-1725-471d-8868-b08b3f54e99d",
   "metadata": {},
   "source": [
    "## 8. 최적의 파라미터 찾기(GridSearchCV)"
   ]
  },
  {
   "cell_type": "code",
   "execution_count": 12,
   "id": "14a91f88-ac41-4e93-87d0-b0dd4d46dc7d",
   "metadata": {},
   "outputs": [],
   "source": [
    "from sklearn.model_selection import GridSearchCV\n",
    "\n",
    "# 파이프라인 구성\n",
    "\n",
    "# RandomForest만 적용\n",
    "pipe_RF = Pipeline([\n",
    "    (\"preprocessing\", preprocessor),\n",
    "    (\"classifier\", RandomForestClassifier(random_state=42))\n",
    "     ])"
   ]
  },
  {
   "cell_type": "code",
   "execution_count": 13,
   "id": "2db7dcbf-6707-4b81-aa9d-827aad215242",
   "metadata": {},
   "outputs": [],
   "source": [
    "# 하이퍼 파라미터 범위 정의\n",
    "param_grid = {\n",
    "    \"classifier__n_estimators\": [50, 100, 200],\n",
    "    \"classifier__max_depth\": [None, 5, 10],\n",
    "    \"classifier__min_samples_split\": [2, 5],\n",
    "    \"classifier__min_samples_leaf\": [1, 2, 4]\n",
    "}"
   ]
  },
  {
   "cell_type": "code",
   "execution_count": 14,
   "id": "4362b9f5-cbfd-44e0-a6fe-116e51d9b14f",
   "metadata": {},
   "outputs": [],
   "source": [
    "# GridSearch 설정\n",
    "\n",
    "# RandomForest\n",
    "grid_search_RF = GridSearchCV(\n",
    "    pipe_RF,\n",
    "    param_grid,\n",
    "    cv=5,\n",
    "    scoring='accuracy',\n",
    "    n_jobs=-1,\n",
    "    verbose=1\n",
    ")"
   ]
  },
  {
   "cell_type": "code",
   "execution_count": null,
   "id": "0c2db150-5c0b-41bf-b381-0afe482e1c6c",
   "metadata": {},
   "outputs": [
    {
     "name": "stdout",
     "output_type": "stream",
     "text": [
      "Fitting 5 folds for each of 54 candidates, totalling 270 fits\n"
     ]
    }
   ],
   "source": [
    "# 학습 및 파라미터 찾기\n",
    "\n",
    "# RandomForest 학습\n",
    "grid_search_RF.fit(X_train, y_train)\n",
    "\n",
    "# 결과 출력\n",
    "print(\"Best parameters:\", grid_search_RF.best_params_)\n",
    "print(\"Best cross-validation accuracy: {:.3f}\".format(grid_search_RF.best_score_))"
   ]
  }
 ],
 "metadata": {
  "kernelspec": {
   "display_name": "Python 3 (ipykernel)",
   "language": "python",
   "name": "python3"
  },
  "language_info": {
   "codemirror_mode": {
    "name": "ipython",
    "version": 3
   },
   "file_extension": ".py",
   "mimetype": "text/x-python",
   "name": "python",
   "nbconvert_exporter": "python",
   "pygments_lexer": "ipython3",
   "version": "3.12.11"
  }
 },
 "nbformat": 4,
 "nbformat_minor": 5
}
