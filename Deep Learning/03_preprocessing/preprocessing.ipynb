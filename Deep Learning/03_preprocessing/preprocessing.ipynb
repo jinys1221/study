{
 "cells": [
  {
   "cell_type": "markdown",
   "id": "cca9bcbe-4b10-44ab-b8e3-73b1c2b40403",
   "metadata": {},
   "source": [
    "## 1. 라이브러리 불러오기\n",
    "딥러닝 전처리를 위한 torch, plt. torchvision을 불러옵니다."
   ]
  },
  {
   "cell_type": "code",
   "execution_count": 5,
   "id": "9fe0be9f-5b9a-4941-84dd-85091e40c63c",
   "metadata": {},
   "outputs": [],
   "source": [
    "import torch\n",
    "import matplotlib.pyplot as plt"
   ]
  },
  {
   "cell_type": "code",
   "execution_count": 6,
   "id": "8af0a44b-d55d-4fa8-b054-653f21dfa0b2",
   "metadata": {},
   "outputs": [],
   "source": [
    "from torchvision import datasets\n",
    "from torchvision import transforms\n",
    "from torch.utils.data import DataLoader"
   ]
  },
  {
   "cell_type": "markdown",
   "id": "837060a6-309b-4ead-a4c0-f0fa539a8235",
   "metadata": {},
   "source": [
    "## 2. 전처리 종류\n",
    "- **1. 기본 전처리** `ToTensor()` MNIST는 PIL 이미지로 불러와지기 때문에 텐서로 바꾸려면 **필수**적인 작업\n",
    "- **2. 정규화** `Normalize(mean, std)`픽셀 값 범위를 [-1, 1]로 정규화 (MNIST 평균 0.1307, 표준편차 0.3081)\n",
    "- **3. 크기 조정** `Resize()`이미지 크기를 28x28이 아닌 다른 크기로 바꾸고 싶을 때\n",
    "- **4. 데이터 증강(학습에만 적용)**\n",
    "    * `RandomRotation(degrees=15)` 이미지를 무작위로 회전\n",
    "    * `RandomAffine(degrees, translate)` 이동, 확대, 회전\n",
    "    * `RandomCrop(size, padding=4)` 무작위로 잘라내기\n",
    "    * `ColorJitter()` MNIST엔 잘 안쓰이지만 RGB 이미지에 유용"
   ]
  },
  {
   "cell_type": "code",
   "execution_count": 16,
   "id": "ca33d40e-02dd-4f05-8ea7-c18cfb92b8f1",
   "metadata": {},
   "outputs": [
    {
     "data": {
      "image/png": "[encoded data removed]",
      "text/plain": [
       "<Figure size 640x480 with 1 Axes>"
      ]
     },
     "metadata": {},
     "output_type": "display_data"
    }
   ],
   "source": [
    "transform = transforms.ToTensor()\n",
    "\n",
    "# 데이터셋 다운로드 및 전처리 적용\n",
    "train_dataset = datasets.MNIST(root='./data', train=True, download=True, transform=transform)\n",
    "test_dataset = datasets.MNIST(root='./data', train=False, download=True, transform=transform)\n",
    "\n",
    "# 데이터 로더 구성\n",
    "train_loader = DataLoader(train_dataset, batch_size=64, shuffle=True)\n",
    "test_loader = DataLoader(test_dataset, batch_size=64, shuffle=False)\n",
    "\n",
    "# 전처리 후 이미지 확인\n",
    "def show_tensor_image(tensor_img):\n",
    "    img = tensor_img.clone()\n",
    "    img = img * 0.3081 + 0.1307  # 정규화 복원\n",
    "    plt.imshow(img.squeeze(), cmap='gray')\n",
    "    plt.axis('off')\n",
    "    plt.show()\n",
    "\n",
    "# 한 배치에서 첫 이미지 보기\n",
    "data_iter = iter(train_loader)\n",
    "images, labels = next(data_iter)\n",
    "show_tensor_image(images[0])"
   ]
  },
  {
   "cell_type": "markdown",
   "id": "abebfd7c-54f5-42af-b2f2-196c19852c48",
   "metadata": {},
   "source": [
    "- **5. Compose로 전처리 묶기**(머신러닝 Scikit-learn의 **Pipeline**과 비슷한 역할)\n",
    "  "
   ]
  },
  {
   "cell_type": "code",
   "execution_count": 15,
   "id": "9dd1328e-41ea-43b8-965f-a730908adff6",
   "metadata": {},
   "outputs": [
    {
     "data": {
      "image/png": "[encoded data removed]",
      "text/plain": [
       "<Figure size 640x480 with 1 Axes>"
      ]
     },
     "metadata": {},
     "output_type": "display_data"
    }
   ],
   "source": [
    "# 훈련용 전처리 구성\n",
    "train_transform = transforms.Compose([\n",
    "    transforms.RandomRotation(10),\n",
    "    transforms.ToTensor(),\n",
    "    transforms.Normalize((0.1307,), (0.3081,))\n",
    "])\n",
    "# 테스트용 전처리 구성 (테스트용은 최소한의 전처리만 거친다.)\n",
    "test_transform = transforms.Compose([\n",
    "    transforms.ToTensor(),\n",
    "    transforms.Normalize((0.1307,), (0.3081,))\n",
    "])\n",
    "\n",
    "# 데이터셋 다운로드 및 전처리 적용\n",
    "train_dataset = datasets.MNIST(root='./data', train=True, download=True, transform=train_transform)\n",
    "test_dataset = datasets.MNIST(root='./data', train=False, download=True, transform=test_transform)\n",
    "\n",
    "# DataLoader 구성\n",
    "train_loader = DataLoader(train_dataset, batch_size=64, shuffle=True)\n",
    "test_loader = DataLoader(test_dataset, batch_size=64, shuffle=False)\n",
    "\n",
    "# 전처리 후 이미지 확인 (정규화 되므로 다시 되돌려서 보여줌)\n",
    "def show_tensor_image(tensor_img):\n",
    "    img = tensor_img.clone()\n",
    "    img = img * 0.3081 + 0.1307  # 정규화 복원\n",
    "    plt.imshow(img.squeeze(), cmap='gray')\n",
    "    plt.axis('off')\n",
    "    plt.show()\n",
    "\n",
    "# 한 배치에서 첫 이미지 보기\n",
    "data_iter = iter(train_loader)\n",
    "images, labels = next(data_iter)\n",
    "show_tensor_image(images[0])"
   ]
  },
  {
   "cell_type": "code",
   "execution_count": null,
   "id": "0f466594-95a9-4670-9327-e623200baef4",
   "metadata": {},
   "outputs": [],
   "source": []
  }
 ],
 "metadata": {
  "kernelspec": {
   "display_name": "Python (pytorch_env)",
   "language": "python",
   "name": "pytorch_env"
  },
  "language_info": {
   "codemirror_mode": {
    "name": "ipython",
    "version": 3
   },
   "file_extension": ".py",
   "mimetype": "text/x-python",
   "name": "python",
   "nbconvert_exporter": "python",
   "pygments_lexer": "ipython3",
   "version": "3.10.18"
  }
 },
 "nbformat": 4,
 "nbformat_minor": 5
}
