{
 "cells": [
  {
   "cell_type": "markdown",
   "id": "d15a8291-7378-4eb5-8c5e-11f00d2636c0",
   "metadata": {},
   "source": [
    "## 1. 라이브러리 불러오기\n",
    "딥러닝 MLP(Multi-Layer Perceptron) 학습을 위한 라이브러리를 불러옵니다. "
   ]
  },
  {
   "cell_type": "code",
   "execution_count": null,
   "id": "9303bc9b-d054-417b-9180-341c599c2769",
   "metadata": {},
   "outputs": [],
   "source": [
    "import torch\n",
    "from torchvision import datasets, transforms\n",
    "import torch.nn as nn\n",
    "import torch.optim as optim\n",
    "from torch.utils.data import DataLoader"
   ]
  },
  {
   "cell_type": "markdown",
   "id": "76c093af-2472-469b-b186-49b0c288cf89",
   "metadata": {},
   "source": [
    "## 2. MLP 방법\n",
    "- `nn.Sequential`방식"
   ]
  },
  {
   "cell_type": "code",
   "execution_count": 13,
   "id": "f37a2ced-bb3a-4e23-96cf-392440bf112b",
   "metadata": {},
   "outputs": [],
   "source": [
    "# 예시 입력 784 (28x28 이미지), 은닉층 128, 출력 10(클래스 개수)\n",
    "mlp = nn.Sequential(\n",
    "    nn.Linear(784, 128),\n",
    "    nn.ReLU(),\n",
    "    nn.Linear(128, 64),\n",
    "    nn.ReLU(),\n",
    "    nn.Linear(64, 10)\n",
    ")"
   ]
  },
  {
   "cell_type": "code",
   "execution_count": 14,
   "id": "857f43f7-2208-4560-9b26-eaa5ebae4172",
   "metadata": {},
   "outputs": [
    {
     "name": "stdout",
     "output_type": "stream",
     "text": [
      "torch.Size([32, 10])\n"
     ]
    }
   ],
   "source": [
    "# 테스트용 입력 텐서(배치 크기 32)\n",
    "x = torch.randn(32, 784)\n",
    "output = mlp(x)\n",
    "print(output.shape)"
   ]
  },
  {
   "cell_type": "markdown",
   "id": "a2afd65f-859f-42e8-9b7c-057a1b864ef2",
   "metadata": {},
   "source": [
    "- `nn.Module`상속 (클래스 기반 방식)"
   ]
  },
  {
   "cell_type": "code",
   "execution_count": 15,
   "id": "7ac27711-5336-4950-a6b1-e05499f1ee42",
   "metadata": {},
   "outputs": [],
   "source": [
    "class MLP(nn.Module):\n",
    "    def __init__(self, input_size=784, hidden_sizes=[128, 64], output_size=10):\n",
    "        super(MLP, self).__init__()\n",
    "        self.fc1 = nn.Linear(input_size, hidden_sizes[0])\n",
    "        self.fc2 = nn.Linear(hidden_sizes[0], hidden_sizes[1])\n",
    "        self.fc3 = nn.Linear(hidden_sizes[1], output_size)\n",
    "        self.relu = nn.ReLU()\n",
    "\n",
    "    def forward(self, x):\n",
    "        x = x.view(-1, 28*28)  # 평탄화\n",
    "        x = self.relu(self.fc1(x))\n",
    "        x = self.relu(self.fc2(x))\n",
    "        x = self.fc3(x)\n",
    "\n",
    "        return x"
   ]
  },
  {
   "cell_type": "code",
   "execution_count": 16,
   "id": "33a421af-2b3c-4e3b-9ebe-aa606284b0bb",
   "metadata": {},
   "outputs": [
    {
     "name": "stdout",
     "output_type": "stream",
     "text": [
      "torch.Size([32, 10])\n"
     ]
    }
   ],
   "source": [
    "# 모델 생성 및 테스트\n",
    "model = MLP()\n",
    "x = torch.randn(32, 784)\n",
    "output = model(x)\n",
    "print(output.shape)  # torch.Size([32, 10])"
   ]
  },
  {
   "cell_type": "markdown",
   "id": "da2df7e8-1fb3-4953-9358-4f7dc07741f8",
   "metadata": {},
   "source": [
    "복잡하지 않은 MLP는 Sequential 방식을 이용해도 충분하지만\n",
    "여러 가지 구조를 넣고 조건문을 넣을 것이라면 클래스 기반을 사용하는 것이 낫다."
   ]
  },
  {
   "cell_type": "markdown",
   "id": "0216ab2b-71a7-4f23-8369-b56ab394ad84",
   "metadata": {},
   "source": [
    "## 3. 손실 함수(Loss function) & 옵티마이저(Optimizer)\n",
    "- `손실 함수(Loss function)`  \n",
    "    → 모델이 얼마나 잘못됐는지 수치화\n",
    "\n",
    "- `옵티마이저(Optimizer)`  \n",
    "    → 손실을 줄이기 위해 어떻게 고쳐야 할지 결정하고 업데이트"
   ]
  },
  {
   "cell_type": "code",
   "execution_count": 17,
   "id": "abc1e203-42d1-4ea0-9570-2b9db0f69ea4",
   "metadata": {},
   "outputs": [],
   "source": [
    "criterion = nn.CrossEntropyLoss()\n",
    "optimizer = optim.Adam(model.parameters(), lr=0.001)"
   ]
  },
  {
   "cell_type": "markdown",
   "id": "5b55f96c-3bf5-435d-b85f-42e14329ef35",
   "metadata": {},
   "source": [
    "## 4. 데이터셋 로딩 "
   ]
  },
  {
   "cell_type": "code",
   "execution_count": 18,
   "id": "eaaf81da-6916-4668-875b-4ebc5d4fec12",
   "metadata": {},
   "outputs": [],
   "source": [
    "transform = transforms.ToTensor()\n",
    "train_dataset = datasets.MNIST(root='/data', train=True, transform=transform, download=True)\n",
    "test_dataset = datasets.MNIST(root='/data', train=False, transform=transform)\n",
    "\n",
    "train_loader = DataLoader(train_dataset, batch_size=64, shuffle=True)\n",
    "test_loader = DataLoader(test_dataset, batch_size=1000, shuffle=False)"
   ]
  },
  {
   "cell_type": "markdown",
   "id": "a5dabef6-66f3-4736-b614-4ddeff003947",
   "metadata": {},
   "source": [
    "## 5. 학습 "
   ]
  },
  {
   "cell_type": "code",
   "execution_count": 19,
   "id": "2d1e7935-0bdd-4801-9302-f4bdab8659de",
   "metadata": {},
   "outputs": [
    {
     "name": "stdout",
     "output_type": "stream",
     "text": [
      "Epoch 1/5 - Loss: 0.2111\n",
      "Epoch 2/5 - Loss: 0.1535\n",
      "Epoch 3/5 - Loss: 0.0612\n",
      "Epoch 4/5 - Loss: 0.0403\n",
      "Epoch 5/5 - Loss: 0.0213\n"
     ]
    }
   ],
   "source": [
    "epochs = 5\n",
    "for epoch in range(epochs):\n",
    "    model.train()\n",
    "    for images, labels in train_loader:\n",
    "        outputs = model(images)\n",
    "        loss = criterion(outputs, labels)\n",
    "\n",
    "        optimizer.zero_grad()\n",
    "        loss.backward()\n",
    "        optimizer.step()\n",
    "\n",
    "    print(f\"Epoch {epoch+1}/{epochs} - Loss: {loss.item():.4f}\")"
   ]
  },
  {
   "cell_type": "markdown",
   "id": "902c665b-93de-4090-8c2c-9db2d8ba5465",
   "metadata": {},
   "source": [
    "Loss가 줄어들고 있으므로 학습이 잘 되고 있다."
   ]
  },
  {
   "cell_type": "markdown",
   "id": "6aec03d4-7e4a-417d-9276-927dab5268f7",
   "metadata": {},
   "source": [
    "## 6. 정확도 측정 "
   ]
  },
  {
   "cell_type": "code",
   "execution_count": 20,
   "id": "b568ecd4-1db4-47c2-9b3b-fe2924d9a521",
   "metadata": {},
   "outputs": [
    {
     "name": "stdout",
     "output_type": "stream",
     "text": [
      "Test Accuracy: 97.60%\n"
     ]
    }
   ],
   "source": [
    "model.eval()\n",
    "correct = 0\n",
    "total = 0\n",
    "with torch.no_grad():\n",
    "    for images, labels in test_loader:\n",
    "        outputs = model(images)\n",
    "        _, predicted = torch.max(outputs, 1)\n",
    "        total += labels.size(0)\n",
    "        correct += (predicted == labels).sum().item()\n",
    "\n",
    "accuracy = 100 * correct / total\n",
    "print(f\"Test Accuracy: {accuracy:.2f}%\")"
   ]
  },
  {
   "cell_type": "markdown",
   "id": "fb98d073-f106-4451-8185-f28d9a5a5963",
   "metadata": {},
   "source": [
    "## 7. 하이퍼 파라미터 변경 \n",
    "- 변경할 대상\n",
    "    * `배치 크기(batch_size)`한 번에 학습하는 데이터 수\n",
    "    * `학습률(learning_rate)`가중치 업데이트 속도\n",
    "    * `옵티마이저(optimizer)`가중치 업데이트 방식"
   ]
  },
  {
   "cell_type": "code",
   "execution_count": null,
   "id": "c56a79ec-3c5c-4f87-bf38-159227fcf10e",
   "metadata": {},
   "outputs": [],
   "source": [
    "# 튜닝할 하이퍼파라미터 조합\n",
    "batch_sizes = [32, 64, 128]\n",
    "learning_rates = [0.1, 0.01, 0.001]\n",
    "optimizers = ['SGD', 'Adam']"
   ]
  },
  {
   "cell_type": "code",
   "execution_count": 40,
   "id": "025c5824-09b5-43ea-9765-8eff731e99c6",
   "metadata": {},
   "outputs": [
    {
     "name": "stdout",
     "output_type": "stream",
     "text": [
      " Batch: 32, LR: 0.1, Optimizer: SGD\n",
      " Accuracy: 97.05%\n",
      "\n",
      " Batch: 32, LR: 0.1, Optimizer: Adam\n",
      " Accuracy: 21.08%\n",
      "\n",
      " Batch: 32, LR: 0.01, Optimizer: SGD\n",
      " Accuracy: 92.28%\n",
      "\n",
      " Batch: 32, LR: 0.01, Optimizer: Adam\n",
      " Accuracy: 96.04%\n",
      "\n",
      " Batch: 32, LR: 0.001, Optimizer: SGD\n",
      " Accuracy: 68.72%\n",
      "\n",
      " Batch: 32, LR: 0.001, Optimizer: Adam\n",
      " Accuracy: 97.45%\n",
      "\n",
      " Batch: 64, LR: 0.1, Optimizer: SGD\n",
      " Accuracy: 96.61%\n",
      "\n",
      " Batch: 64, LR: 0.1, Optimizer: Adam\n",
      " Accuracy: 20.73%\n",
      "\n",
      " Batch: 64, LR: 0.01, Optimizer: SGD\n",
      " Accuracy: 89.84%\n",
      "\n",
      " Batch: 64, LR: 0.01, Optimizer: Adam\n",
      " Accuracy: 96.32%\n",
      "\n",
      " Batch: 64, LR: 0.001, Optimizer: SGD\n",
      " Accuracy: 48.21%\n",
      "\n",
      " Batch: 64, LR: 0.001, Optimizer: Adam\n",
      " Accuracy: 97.24%\n",
      "\n",
      " Batch: 128, LR: 0.1, Optimizer: SGD\n",
      " Accuracy: 94.63%\n",
      "\n",
      " Batch: 128, LR: 0.1, Optimizer: Adam\n",
      " Accuracy: 36.44%\n",
      "\n",
      " Batch: 128, LR: 0.01, Optimizer: SGD\n",
      " Accuracy: 85.51%\n",
      "\n",
      " Batch: 128, LR: 0.01, Optimizer: Adam\n",
      " Accuracy: 96.46%\n",
      "\n",
      " Batch: 128, LR: 0.001, Optimizer: SGD\n",
      " Accuracy: 31.20%\n",
      "\n",
      " Batch: 128, LR: 0.001, Optimizer: Adam\n",
      " Accuracy: 95.89%\n",
      "\n"
     ]
    }
   ],
   "source": [
    "torch.cuda.is_available()\n",
    "device = torch.device(\"cuda\" if torch.cuda.is_available() else \"cpu\")\n",
    "results = []   #시각화하기 위한 실험 결과 저장 리스트\n",
    "for batch_size in batch_sizes:\n",
    "    for lr in learning_rates:\n",
    "        for opt_name in optimizers:\n",
    "            print(f\" Batch: {batch_size}, LR: {lr}, Optimizer: {opt_name}\")\n",
    "            \n",
    "            # 1. 데이터 로더 생성\n",
    "            train_loader = DataLoader(train_dataset, batch_size=batch_size, shuffle=True, num_workers=2)\n",
    "            test_loader = DataLoader(test_dataset, batch_size=batch_size, shuffle=False, num_workers=2)\n",
    "\n",
    "            # 2. 모델 초기화\n",
    "            model = MLP()\n",
    "            model = model.to(device)    # cuda 사용\n",
    "\n",
    "            # 3. 옵티마이저 설정\n",
    "            if opt_name  == 'SGD':\n",
    "                optimizer = torch.optim.SGD(model.parameters(), lr=lr)\n",
    "            elif opt_name == 'Adam':\n",
    "                optimizer = torch.optim.Adam(model.parameters(), lr=lr)\n",
    "\n",
    "            # 4. 손실 함수\n",
    "            criterion = nn.CrossEntropyLoss()\n",
    "\n",
    "            # 5. 학습\n",
    "            for epoch in range(3):\n",
    "                model.train()\n",
    "                for images, labels in train_loader:\n",
    "                    images, labels = images.to(device), labels.to(device)    # 모델 MLP와 데이터 images, labels 모두 .to(device)로 같은 장치로 보내기\n",
    "                    outputs = model(images)\n",
    "                    loss = criterion(outputs, labels)\n",
    "                    optimizer.zero_grad()\n",
    "                    loss.backward()\n",
    "                    optimizer.step()\n",
    "\n",
    "            # 6. 정확도 측정\n",
    "            model.eval()\n",
    "            correct = 0\n",
    "            total = 0\n",
    "            with torch.no_grad():\n",
    "                for images, labels in test_loader:\n",
    "                    images, labels = images.to(device), labels.to(device)    # 모델 MLP와 데이터 images, labels 모두 .to(device)로 같은 장치로 보내기\n",
    "                    outputs = model(images)\n",
    "                    _, predicted = torch.max(outputs, 1)\n",
    "                    correct += (predicted == labels).sum().item()\n",
    "                    total += labels.size(0)\n",
    "            accuracy = 100 * correct / total\n",
    "            print(f\" Accuracy: {accuracy:.2f}%\\n\")\n",
    "\n",
    "            # 결과 저장\n",
    "            results.append({\n",
    "                'Batch': batch_size,\n",
    "                'LR' : lr,\n",
    "                'Optimizer' : opt_name,\n",
    "                'Accuracy' : accuracy\n",
    "            })\n",
    "\n",
    "            "
   ]
  },
  {
   "cell_type": "markdown",
   "id": "eb8a2037-3f8b-4a0f-a1e1-5aa90b7d5ac0",
   "metadata": {},
   "source": [
    "## 8. 시각화"
   ]
  },
  {
   "cell_type": "code",
   "execution_count": 106,
   "id": "1eb9edad-4ade-4cf1-bb31-e8abed658923",
   "metadata": {},
   "outputs": [],
   "source": [
    "import pandas as pd\n",
    "import seaborn as sns\n",
    "import matplotlib.pyplot as plt"
   ]
  },
  {
   "cell_type": "code",
   "execution_count": 102,
   "id": "91b961e4-b095-4441-89ef-0453b4d171e8",
   "metadata": {},
   "outputs": [
    {
     "name": "stdout",
     "output_type": "stream",
     "text": [
      "    Batch     LR Optimizer  Accuracy\n",
      "0      32  0.100       SGD     97.05\n",
      "1      32  0.100      Adam     21.08\n",
      "2      32  0.010       SGD     92.28\n",
      "3      32  0.010      Adam     96.04\n",
      "4      32  0.001       SGD     68.72\n",
      "5      32  0.001      Adam     97.45\n",
      "6      64  0.100       SGD     96.61\n",
      "7      64  0.100      Adam     20.73\n",
      "8      64  0.010       SGD     89.84\n",
      "9      64  0.010      Adam     96.32\n",
      "10     64  0.001       SGD     48.21\n",
      "11     64  0.001      Adam     97.24\n",
      "12    128  0.100       SGD     94.63\n",
      "13    128  0.100      Adam     36.44\n",
      "14    128  0.010       SGD     85.51\n",
      "15    128  0.010      Adam     96.46\n",
      "16    128  0.001       SGD     31.20\n",
      "17    128  0.001      Adam     95.89\n"
     ]
    }
   ],
   "source": [
    "# DataFrame 생성\n",
    "df = pd.DataFrame(results)\n",
    "print(df)"
   ]
  },
  {
   "cell_type": "code",
   "execution_count": 111,
   "id": "04474891-b2cc-4bb1-bdaa-89225a4c2ab8",
   "metadata": {},
   "outputs": [
    {
     "data": {
      "image/png": "[encoded data removed]",
      "text/plain": [
       "<Figure size 920.375x600 with 1 Axes>"
      ]
     },
     "metadata": {},
     "output_type": "display_data"
    }
   ],
   "source": [
    "# 시각화\n",
    "sns.set_style(\"whitegrid\")\n",
    "g = sns.catplot(data=df, x=\"Optimizer\", y=\"Accuracy\", hue=\"Batch\", kind=\"bar\", height=6, aspect=1.4, errorbar=None)\n",
    "g.set_axis_labels(\"Optimizer\", \"Accuracy (%)\")\n",
    "g.fig.suptitle(\"Comparison of Accuracy by Hyper parameter\", fontsize=14)\n",
    "plt.ylim(20, 100)\n",
    "plt.show()"
   ]
  },
  {
   "cell_type": "markdown",
   "id": "d62295cb-5978-4120-b3d2-409efa84ea4f",
   "metadata": {},
   "source": [
    "- `SGD 옵티마이저`\n",
    "\n",
    "  - 배치 크기가 32는 약 86%, 64는 약 78%, 128는 약 70%\n",
    "  - 배치 크기가 커질수록 떨어지는 경향  \n",
    "\n",
    "- `Adam 옵티마이저`\n",
    "\n",
    "  - 배치 크기가 32와 64는 약 71%, 128은 약 76%\n",
    "  - 배치 크기별 정확도의 큰 차이가 없다."
   ]
  },
  {
   "cell_type": "code",
   "execution_count": null,
   "id": "f402f8ab-cc84-4e31-b7b4-7dcf736c3312",
   "metadata": {},
   "outputs": [],
   "source": []
  }
 ],
 "metadata": {
  "kernelspec": {
   "display_name": "Python (pytorch_env)",
   "language": "python",
   "name": "pytorch_env"
  },
  "language_info": {
   "codemirror_mode": {
    "name": "ipython",
    "version": 3
   },
   "file_extension": ".py",
   "mimetype": "text/x-python",
   "name": "python",
   "nbconvert_exporter": "python",
   "pygments_lexer": "ipython3",
   "version": "3.10.18"
  }
 },
 "nbformat": 4,
 "nbformat_minor": 5
}
