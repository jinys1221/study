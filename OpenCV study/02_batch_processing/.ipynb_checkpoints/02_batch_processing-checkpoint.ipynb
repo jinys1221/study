{
 "cells": [
  {
   "cell_type": "markdown",
   "id": "16fc924a-f7ed-4672-bc38-93cb2a68edce",
   "metadata": {},
   "source": [
    "## 1. 라이브러리 "
   ]
  },
  {
   "cell_type": "code",
   "execution_count": 1,
   "id": "49724c21-33dc-4f7e-9bab-2bf4a446d6d7",
   "metadata": {},
   "outputs": [],
   "source": [
    "import cv2              \n",
    "import os               # 파일 및 폴더 탐색 os 라이브러리\n",
    "from glob import glob   # 특정 경로에 있는 여러 파일을 리스트로 가져오는 위함"
   ]
  },
  {
   "cell_type": "markdown",
   "id": "ce129bdc-86fc-499c-97ba-00966e92fee6",
   "metadata": {},
   "source": [
    "## 2. 경로 설정"
   ]
  },
  {
   "cell_type": "code",
   "execution_count": 2,
   "id": "42a6ca96-52b2-4662-8cab-ef44a9e6ce0b",
   "metadata": {},
   "outputs": [],
   "source": [
    "# 원본 이미지 폴더와 저장 폴더 경로 설정\n",
    "input_folder = r\"D:\\study\\OpenCV study\\image\"\n",
    "output_folder = r\"D:\\study\\OpenCV study\\02_batch_processing\\output image\"\n",
    "\n",
    "# 폴더 내 .jpg 이미지 파일 경로 리스트 얻기\n",
    "img_files = glob(os.path.join(input_folder, \"*.jpg\"))"
   ]
  },
  {
   "cell_type": "markdown",
   "id": "41e8cee1-7a93-4446-a2c1-0f11337e648b",
   "metadata": {},
   "source": [
    "## 3. 반복 처리 코드"
   ]
  },
  {
   "cell_type": "code",
   "execution_count": 3,
   "id": "efb25a3d-219a-43b3-826a-530d3a9d349c",
   "metadata": {},
   "outputs": [
    {
     "name": "stdout",
     "output_type": "stream",
     "text": [
      "D:\\study\\OpenCV study\\02_batch_processing\\output image\\output_dog.jpg 저장 완료\n"
     ]
    }
   ],
   "source": [
    "# 이미지 반복 처리\n",
    "for path in img_files:\n",
    "    # 파일명만 추출\n",
    "    filename = os.path.basename(path)\n",
    "\n",
    "    # 이미지 읽기\n",
    "    img = cv2.imread(path)\n",
    "    if img is None:\n",
    "        print(f\"이미지 불러오기 실패: {path}\")\n",
    "        continue\n",
    "\n",
    "    # 그레이스케일 변환\n",
    "    gray = cv2.cvtColor(img, cv2.COLOR_BGR2GRAY)\n",
    "\n",
    "     # 리사이즈\n",
    "    resized = cv2.resize(gray, (200, 200))\n",
    "\n",
    "    # 자르기 \n",
    "    cropped = resized[50:150, 50:150]\n",
    "\n",
    "    # 저장 경로 설정\n",
    "    save_path = os.path.join(output_folder, f\"output_{filename}\")\n",
    "\n",
    "    # 저장\n",
    "    cv2.imwrite(save_path, cropped)\n",
    "    print(f\"{save_path} 저장 완료\")"
   ]
  },
  {
   "cell_type": "code",
   "execution_count": null,
   "id": "3fcf5292-9858-4b26-8e86-78315784f5d4",
   "metadata": {},
   "outputs": [],
   "source": []
  }
 ],
 "metadata": {
  "kernelspec": {
   "display_name": "Python (pytorch_env)",
   "language": "python",
   "name": "pytorch_env"
  },
  "language_info": {
   "codemirror_mode": {
    "name": "ipython",
    "version": 3
   },
   "file_extension": ".py",
   "mimetype": "text/x-python",
   "name": "python",
   "nbconvert_exporter": "python",
   "pygments_lexer": "ipython3",
   "version": "3.10.18"
  }
 },
 "nbformat": 4,
 "nbformat_minor": 5
}
