{
 "cells": [
  {
   "cell_type": "markdown",
   "id": "0f07294a-1617-42db-b9cc-de2860466794",
   "metadata": {},
   "source": [
    "## 1. 라이브러리 불러오기\n",
    "Pytorch 실습을 위한 라이브러리 numpy, torch를 불러옵니다."
   ]
  },
  {
   "cell_type": "code",
   "execution_count": 46,
   "id": "078bf0a4-7a94-49b4-bdfe-a1e0efd8c085",
   "metadata": {},
   "outputs": [],
   "source": [
    "import numpy as np\n",
    "import torch"
   ]
  },
  {
   "cell_type": "markdown",
   "id": "8807aa76-6c46-4b83-adec-b268e21b5484",
   "metadata": {},
   "source": [
    "## 2. Tensor 만들기\n",
    "\n",
    "- torch.tensor()"
   ]
  },
  {
   "cell_type": "code",
   "execution_count": 45,
   "id": "4aa15e9d-a547-4399-8c61-4022d1e3e72c",
   "metadata": {},
   "outputs": [
    {
     "data": {
      "text/plain": [
       "tensor(5)"
      ]
     },
     "execution_count": 45,
     "metadata": {},
     "output_type": "execute_result"
    }
   ],
   "source": [
    "torch.tensor(5)   # 0차원 텐서 → 스칼라"
   ]
  },
  {
   "cell_type": "code",
   "execution_count": 46,
   "id": "9cc416f0-3b4f-42dc-ba02-deec27629124",
   "metadata": {},
   "outputs": [
    {
     "data": {
      "text/plain": [
       "tensor([1, 2, 3, 4, 5])"
      ]
     },
     "execution_count": 46,
     "metadata": {},
     "output_type": "execute_result"
    }
   ],
   "source": [
    "torch.tensor([1, 2, 3, 4, 5])    # 1차원 텐서 → 벡터"
   ]
  },
  {
   "cell_type": "code",
   "execution_count": 47,
   "id": "7d2c77cd-c1d3-484e-b203-1d16e3f918bb",
   "metadata": {},
   "outputs": [
    {
     "data": {
      "text/plain": [
       "tensor([[1, 2, 3],\n",
       "        [4, 5, 6]])"
      ]
     },
     "execution_count": 47,
     "metadata": {},
     "output_type": "execute_result"
    }
   ],
   "source": [
    "torch.tensor([[1], [2], [3], [4], [5]])   # 2차원 텐서 → 매트릭스\n",
    "torch.tensor([[1, 2, 3], [4, 5, 6]])"
   ]
  },
  {
   "cell_type": "markdown",
   "id": "4495016e-26d1-4e25-a844-5063a40377ef",
   "metadata": {},
   "source": [
    "- list, set, numpy array 등에도 적용이 가능하다."
   ]
  },
  {
   "cell_type": "code",
   "execution_count": 48,
   "id": "0e83ac60-64f2-4c22-83f4-64bca264e57c",
   "metadata": {},
   "outputs": [
    {
     "data": {
      "text/plain": [
       "tensor([1, 2, 3, 4, 5])"
      ]
     },
     "execution_count": 48,
     "metadata": {},
     "output_type": "execute_result"
    }
   ],
   "source": [
    "temp_list = [1, 2, 3, 4, 5]\n",
    "torch.tensor(temp_list)"
   ]
  },
  {
   "cell_type": "code",
   "execution_count": 49,
   "id": "7fd9e9e1-bda4-4bc5-a99d-e53f82929f43",
   "metadata": {},
   "outputs": [
    {
     "data": {
      "text/plain": [
       "tensor([1, 2, 3, 4, 5])"
      ]
     },
     "execution_count": 49,
     "metadata": {},
     "output_type": "execute_result"
    }
   ],
   "source": [
    "temp_set = (1, 2, 3, 4, 5)\n",
    "torch.tensor(temp_set)"
   ]
  },
  {
   "cell_type": "code",
   "execution_count": 50,
   "id": "16f8d201-8ce6-4aaa-ba34-f90bcdf727da",
   "metadata": {},
   "outputs": [
    {
     "data": {
      "text/plain": [
       "tensor([1, 2, 3, 4, 5])"
      ]
     },
     "execution_count": 50,
     "metadata": {},
     "output_type": "execute_result"
    }
   ],
   "source": [
    "temp_np_array = np.array(temp_list)\n",
    "torch.tensor(temp_np_array)"
   ]
  },
  {
   "cell_type": "code",
   "execution_count": 51,
   "id": "4b519a6e-efca-4003-a646-349784b456db",
   "metadata": {},
   "outputs": [
    {
     "data": {
      "text/plain": [
       "tensor([1, 2, 3, 4, 5])"
      ]
     },
     "execution_count": 51,
     "metadata": {},
     "output_type": "execute_result"
    }
   ],
   "source": [
    "torch.from_numpy(temp_np_array)"
   ]
  },
  {
   "cell_type": "markdown",
   "id": "a4dcbdb5-82c7-49bb-be5b-ca895facf649",
   "metadata": {},
   "source": [
    "- torch.ones()  \n",
    "`torch.ones()`를 통해 만들게 되면 각 element가 1인 tensor를 만들어줌  \n",
    "argment로는 tensor의 dimension을 입력"
   ]
  },
  {
   "cell_type": "code",
   "execution_count": 52,
   "id": "2f134e0c-0211-4ad5-aa64-a523ff386bcd",
   "metadata": {},
   "outputs": [
    {
     "data": {
      "text/plain": [
       "tensor([1., 1., 1.])"
      ]
     },
     "execution_count": 52,
     "metadata": {},
     "output_type": "execute_result"
    }
   ],
   "source": [
    "torch.ones(3)   # 1차원 텐서"
   ]
  },
  {
   "cell_type": "code",
   "execution_count": 53,
   "id": "05ddf528-dcd8-4bce-83c4-67d964a3075e",
   "metadata": {},
   "outputs": [
    {
     "data": {
      "text/plain": [
       "tensor([[1., 1., 1.],\n",
       "        [1., 1., 1.],\n",
       "        [1., 1., 1.]])"
      ]
     },
     "execution_count": 53,
     "metadata": {},
     "output_type": "execute_result"
    }
   ],
   "source": [
    "torch.ones([3, 3])   # 2차원 텐서"
   ]
  },
  {
   "cell_type": "code",
   "execution_count": 54,
   "id": "a60c80d7-9a49-4d51-9aca-d076ea9d504f",
   "metadata": {},
   "outputs": [
    {
     "data": {
      "text/plain": [
       "tensor([[[1., 1., 1.],\n",
       "         [1., 1., 1.],\n",
       "         [1., 1., 1.]],\n",
       "\n",
       "        [[1., 1., 1.],\n",
       "         [1., 1., 1.],\n",
       "         [1., 1., 1.]],\n",
       "\n",
       "        [[1., 1., 1.],\n",
       "         [1., 1., 1.],\n",
       "         [1., 1., 1.]]])"
      ]
     },
     "execution_count": 54,
     "metadata": {},
     "output_type": "execute_result"
    }
   ],
   "source": [
    "torch.ones([3, 3, 3]) # 3차원 텐서"
   ]
  },
  {
   "cell_type": "markdown",
   "id": "3f6f1e0f-238c-47fb-a1fc-fcc60089dd39",
   "metadata": {},
   "source": [
    "- torch.zeros()  \n",
    "`torch.zeros()`를 통해 만들게 되면 각 element가 0인 tensor를 만들어줌    \n",
    "argment로는 tensor의 dimension을 입력"
   ]
  },
  {
   "cell_type": "code",
   "execution_count": 55,
   "id": "09d52e78-829b-47e0-ab8c-2c6feb2267de",
   "metadata": {},
   "outputs": [
    {
     "data": {
      "text/plain": [
       "tensor([0., 0., 0.])"
      ]
     },
     "execution_count": 55,
     "metadata": {},
     "output_type": "execute_result"
    }
   ],
   "source": [
    "torch.zeros(3)"
   ]
  },
  {
   "cell_type": "code",
   "execution_count": 56,
   "id": "469b0c75-e7b0-4f8a-9f30-b76a4b1db3be",
   "metadata": {},
   "outputs": [
    {
     "data": {
      "text/plain": [
       "tensor([[0., 0., 0., 0.],\n",
       "        [0., 0., 0., 0.],\n",
       "        [0., 0., 0., 0.],\n",
       "        [0., 0., 0., 0.]])"
      ]
     },
     "execution_count": 56,
     "metadata": {},
     "output_type": "execute_result"
    }
   ],
   "source": [
    "torch.zeros([4, 4])"
   ]
  },
  {
   "cell_type": "code",
   "execution_count": 57,
   "id": "9ce5db91-748d-4859-8801-37952e84b6f9",
   "metadata": {},
   "outputs": [
    {
     "data": {
      "text/plain": [
       "tensor([[[0., 0., 0., 0.],\n",
       "         [0., 0., 0., 0.],\n",
       "         [0., 0., 0., 0.],\n",
       "         [0., 0., 0., 0.]],\n",
       "\n",
       "        [[0., 0., 0., 0.],\n",
       "         [0., 0., 0., 0.],\n",
       "         [0., 0., 0., 0.],\n",
       "         [0., 0., 0., 0.]],\n",
       "\n",
       "        [[0., 0., 0., 0.],\n",
       "         [0., 0., 0., 0.],\n",
       "         [0., 0., 0., 0.],\n",
       "         [0., 0., 0., 0.]]])"
      ]
     },
     "execution_count": 57,
     "metadata": {},
     "output_type": "execute_result"
    }
   ],
   "source": [
    "torch.zeros([3, 4, 4])"
   ]
  },
  {
   "cell_type": "code",
   "execution_count": 58,
   "id": "81dae1b0-294e-4454-a2bc-97f8ebbc0f14",
   "metadata": {},
   "outputs": [
    {
     "data": {
      "text/plain": [
       "tensor([[[[0., 0., 0., 0.],\n",
       "          [0., 0., 0., 0.],\n",
       "          [0., 0., 0., 0.],\n",
       "          [0., 0., 0., 0.]],\n",
       "\n",
       "         [[0., 0., 0., 0.],\n",
       "          [0., 0., 0., 0.],\n",
       "          [0., 0., 0., 0.],\n",
       "          [0., 0., 0., 0.]],\n",
       "\n",
       "         [[0., 0., 0., 0.],\n",
       "          [0., 0., 0., 0.],\n",
       "          [0., 0., 0., 0.],\n",
       "          [0., 0., 0., 0.]]],\n",
       "\n",
       "\n",
       "        [[[0., 0., 0., 0.],\n",
       "          [0., 0., 0., 0.],\n",
       "          [0., 0., 0., 0.],\n",
       "          [0., 0., 0., 0.]],\n",
       "\n",
       "         [[0., 0., 0., 0.],\n",
       "          [0., 0., 0., 0.],\n",
       "          [0., 0., 0., 0.],\n",
       "          [0., 0., 0., 0.]],\n",
       "\n",
       "         [[0., 0., 0., 0.],\n",
       "          [0., 0., 0., 0.],\n",
       "          [0., 0., 0., 0.],\n",
       "          [0., 0., 0., 0.]]],\n",
       "\n",
       "\n",
       "        [[[0., 0., 0., 0.],\n",
       "          [0., 0., 0., 0.],\n",
       "          [0., 0., 0., 0.],\n",
       "          [0., 0., 0., 0.]],\n",
       "\n",
       "         [[0., 0., 0., 0.],\n",
       "          [0., 0., 0., 0.],\n",
       "          [0., 0., 0., 0.],\n",
       "          [0., 0., 0., 0.]],\n",
       "\n",
       "         [[0., 0., 0., 0.],\n",
       "          [0., 0., 0., 0.],\n",
       "          [0., 0., 0., 0.],\n",
       "          [0., 0., 0., 0.]]],\n",
       "\n",
       "\n",
       "        [[[0., 0., 0., 0.],\n",
       "          [0., 0., 0., 0.],\n",
       "          [0., 0., 0., 0.],\n",
       "          [0., 0., 0., 0.]],\n",
       "\n",
       "         [[0., 0., 0., 0.],\n",
       "          [0., 0., 0., 0.],\n",
       "          [0., 0., 0., 0.],\n",
       "          [0., 0., 0., 0.]],\n",
       "\n",
       "         [[0., 0., 0., 0.],\n",
       "          [0., 0., 0., 0.],\n",
       "          [0., 0., 0., 0.],\n",
       "          [0., 0., 0., 0.]]],\n",
       "\n",
       "\n",
       "        [[[0., 0., 0., 0.],\n",
       "          [0., 0., 0., 0.],\n",
       "          [0., 0., 0., 0.],\n",
       "          [0., 0., 0., 0.]],\n",
       "\n",
       "         [[0., 0., 0., 0.],\n",
       "          [0., 0., 0., 0.],\n",
       "          [0., 0., 0., 0.],\n",
       "          [0., 0., 0., 0.]],\n",
       "\n",
       "         [[0., 0., 0., 0.],\n",
       "          [0., 0., 0., 0.],\n",
       "          [0., 0., 0., 0.],\n",
       "          [0., 0., 0., 0.]]]])"
      ]
     },
     "execution_count": 58,
     "metadata": {},
     "output_type": "execute_result"
    }
   ],
   "source": [
    "torch.zeros([5, 3, 4, 4])"
   ]
  },
  {
   "cell_type": "markdown",
   "id": "be4119ef-9183-44d3-b014-08660c5a02a4",
   "metadata": {},
   "source": [
    "- `torch.arange()`를 통해 주어진 범위 내의 정수를 순서대로 생성"
   ]
  },
  {
   "cell_type": "code",
   "execution_count": 59,
   "id": "3e1662bd-9e81-45c9-b94d-d69ff08acaa8",
   "metadata": {},
   "outputs": [
    {
     "data": {
      "text/plain": [
       "tensor([1, 2, 3, 4, 5, 6, 7, 8, 9])"
      ]
     },
     "execution_count": 59,
     "metadata": {},
     "output_type": "execute_result"
    }
   ],
   "source": [
    "torch.arange(1, 10)   # 10 이전까지"
   ]
  },
  {
   "cell_type": "code",
   "execution_count": 60,
   "id": "18c002b3-5dfa-4867-8210-4cdbca84da36",
   "metadata": {},
   "outputs": [
    {
     "data": {
      "text/plain": [
       "tensor([22, 21, 20, 19, 18, 17, 16, 15, 14, 13, 12, 11])"
      ]
     },
     "execution_count": 60,
     "metadata": {},
     "output_type": "execute_result"
    }
   ],
   "source": [
    "torch.arange(22, 10, -1)   # 10 이전까지 -1씩"
   ]
  },
  {
   "cell_type": "code",
   "execution_count": 61,
   "id": "a644a73b-1011-48ca-bcc7-e83cc276e792",
   "metadata": {},
   "outputs": [
    {
     "data": {
      "text/plain": [
       "tensor([10, 12, 14, 16, 18, 20])"
      ]
     },
     "execution_count": 61,
     "metadata": {},
     "output_type": "execute_result"
    }
   ],
   "source": [
    "torch.arange(10, 22, 2)   # 22 전까지 2씩"
   ]
  },
  {
   "cell_type": "markdown",
   "id": "c4fc8bcd-0038-44c4-bfe0-d9212d91f625",
   "metadata": {},
   "source": [
    "-`torch.rand()`[0, 1]의 uniform dist에서 난수를 생성해서 tensor로 만들어줌"
   ]
  },
  {
   "cell_type": "code",
   "execution_count": 62,
   "id": "2a805b14-157a-4a68-af1d-9bef98ca1878",
   "metadata": {},
   "outputs": [
    {
     "data": {
      "text/plain": [
       "tensor([0.2273, 0.8794, 0.1897, 0.8935, 0.9146])"
      ]
     },
     "execution_count": 62,
     "metadata": {},
     "output_type": "execute_result"
    }
   ],
   "source": [
    "torch.rand(5)"
   ]
  },
  {
   "cell_type": "code",
   "execution_count": 63,
   "id": "3971b677-a397-4aeb-a524-c720f07e99ed",
   "metadata": {},
   "outputs": [
    {
     "data": {
      "text/plain": [
       "tensor([[[0.6737, 0.3843, 0.3143, 0.0402, 0.5812],\n",
       "         [0.2231, 0.8884, 0.9587, 0.1562, 0.7619],\n",
       "         [0.1924, 0.9641, 0.5009, 0.3172, 0.7799],\n",
       "         [0.7401, 0.9243, 0.0152, 0.7182, 0.9502]],\n",
       "\n",
       "        [[0.2842, 0.6153, 0.4420, 0.3958, 0.4843],\n",
       "         [0.5193, 0.0982, 0.3453, 0.1006, 0.2304],\n",
       "         [0.6074, 0.4937, 0.4825, 0.0820, 0.4184],\n",
       "         [0.9258, 0.1279, 0.3099, 0.4751, 0.1970]],\n",
       "\n",
       "        [[0.4681, 0.9547, 0.2008, 0.7247, 0.1027],\n",
       "         [0.8245, 0.1674, 0.3609, 0.5722, 0.6900],\n",
       "         [0.3005, 0.7414, 0.4602, 0.9773, 0.6292],\n",
       "         [0.8618, 0.6924, 0.6197, 0.3227, 0.3255]]])"
      ]
     },
     "execution_count": 63,
     "metadata": {},
     "output_type": "execute_result"
    }
   ],
   "source": [
    "torch.rand([3, 4, 5])"
   ]
  },
  {
   "cell_type": "markdown",
   "id": "3f5d98f8-38d9-4b9f-a3de-35b5d7cfe59e",
   "metadata": {},
   "source": [
    "- `torch.xxx_like()`를 통해 기존의 텐서와 같은 모양의 원소가 지정해준 텐서를 만들어줌"
   ]
  },
  {
   "cell_type": "code",
   "execution_count": 64,
   "id": "35aea592-589b-4983-bd66-084533321c6b",
   "metadata": {},
   "outputs": [],
   "source": [
    "a = torch.zeros([3, 4, 5])"
   ]
  },
  {
   "cell_type": "code",
   "execution_count": 65,
   "id": "29b90676-c05e-41ab-9daa-5fb4ccaf6daf",
   "metadata": {},
   "outputs": [
    {
     "data": {
      "text/plain": [
       "tensor([[[1., 1., 1., 1., 1.],\n",
       "         [1., 1., 1., 1., 1.],\n",
       "         [1., 1., 1., 1., 1.],\n",
       "         [1., 1., 1., 1., 1.]],\n",
       "\n",
       "        [[1., 1., 1., 1., 1.],\n",
       "         [1., 1., 1., 1., 1.],\n",
       "         [1., 1., 1., 1., 1.],\n",
       "         [1., 1., 1., 1., 1.]],\n",
       "\n",
       "        [[1., 1., 1., 1., 1.],\n",
       "         [1., 1., 1., 1., 1.],\n",
       "         [1., 1., 1., 1., 1.],\n",
       "         [1., 1., 1., 1., 1.]]])"
      ]
     },
     "execution_count": 65,
     "metadata": {},
     "output_type": "execute_result"
    }
   ],
   "source": [
    "torch.ones_like(a)"
   ]
  },
  {
   "cell_type": "code",
   "execution_count": 66,
   "id": "7b6cb757-1c20-4860-be69-fca5d92893e3",
   "metadata": {},
   "outputs": [
    {
     "data": {
      "text/plain": [
       "tensor([[[0., 0., 0., 0., 0.],\n",
       "         [0., 0., 0., 0., 0.],\n",
       "         [0., 0., 0., 0., 0.],\n",
       "         [0., 0., 0., 0., 0.]],\n",
       "\n",
       "        [[0., 0., 0., 0., 0.],\n",
       "         [0., 0., 0., 0., 0.],\n",
       "         [0., 0., 0., 0., 0.],\n",
       "         [0., 0., 0., 0., 0.]],\n",
       "\n",
       "        [[0., 0., 0., 0., 0.],\n",
       "         [0., 0., 0., 0., 0.],\n",
       "         [0., 0., 0., 0., 0.],\n",
       "         [0., 0., 0., 0., 0.]]])"
      ]
     },
     "execution_count": 66,
     "metadata": {},
     "output_type": "execute_result"
    }
   ],
   "source": [
    "torch.zeros_like(a)"
   ]
  },
  {
   "cell_type": "code",
   "execution_count": 67,
   "id": "e49f2794-8d23-465d-bdcc-1a501e4a6065",
   "metadata": {},
   "outputs": [
    {
     "data": {
      "text/plain": [
       "tensor([[[0.0194, 0.0501, 0.3717, 0.0686, 0.6157],\n",
       "         [0.4022, 0.5206, 0.6923, 0.2982, 0.4974],\n",
       "         [0.9859, 0.4115, 0.7447, 0.8078, 0.5226],\n",
       "         [0.2082, 0.1140, 0.3459, 0.5998, 0.6338]],\n",
       "\n",
       "        [[0.5931, 0.8375, 0.4947, 0.9305, 0.7894],\n",
       "         [0.0714, 0.2078, 0.5723, 0.0020, 0.1048],\n",
       "         [0.3219, 0.9006, 0.3755, 0.4791, 0.1709],\n",
       "         [0.5484, 0.5228, 0.7145, 0.1268, 0.1049]],\n",
       "\n",
       "        [[0.3091, 0.0204, 0.5141, 0.0878, 0.8713],\n",
       "         [0.6388, 0.2554, 0.6568, 0.4271, 0.6317],\n",
       "         [0.3365, 0.3003, 0.2213, 0.7090, 0.2421],\n",
       "         [0.0783, 0.5008, 0.4282, 0.0189, 0.1216]]])"
      ]
     },
     "execution_count": 67,
     "metadata": {},
     "output_type": "execute_result"
    }
   ],
   "source": [
    "torch.rand_like(a)"
   ]
  },
  {
   "cell_type": "markdown",
   "id": "6f6a5eb2-279b-4eaf-8816-ad763f15f749",
   "metadata": {},
   "source": [
    "## 3. Attribute : shape, dtype, device \n",
    "해당 텐서의 모양, 데이터 타입, 연결된 device(하드웨어)를 확인"
   ]
  },
  {
   "cell_type": "markdown",
   "id": "4758ea09-130c-47a3-a352-968640cb8b57",
   "metadata": {},
   "source": [
    "- **`Tensor.shape`텐서의 사이즈 반환**    \n",
    "가장 많이 사용하는 것들 중 하나"
   ]
  },
  {
   "cell_type": "code",
   "execution_count": 68,
   "id": "6e4a091b-3cba-480f-8e72-ae230a065fea",
   "metadata": {},
   "outputs": [
    {
     "data": {
      "text/plain": [
       "torch.Size([5])"
      ]
     },
     "execution_count": 68,
     "metadata": {},
     "output_type": "execute_result"
    }
   ],
   "source": [
    "a= torch.tensor([1, 2, 3, 4, 5])\n",
    "a.shape"
   ]
  },
  {
   "cell_type": "code",
   "execution_count": 69,
   "id": "670b81ca-d0a6-4285-a37c-f6ccf53555c6",
   "metadata": {},
   "outputs": [
    {
     "data": {
      "text/plain": [
       "torch.Size([3, 4, 5])"
      ]
     },
     "execution_count": 69,
     "metadata": {},
     "output_type": "execute_result"
    }
   ],
   "source": [
    "b = torch.ones([3, 4, 5])\n",
    "b.shape"
   ]
  },
  {
   "cell_type": "markdown",
   "id": "bae8506a-a6ad-454d-b22d-6d21839ca7d9",
   "metadata": {},
   "source": [
    "- `Tensor.dtype` 텐서의 데이터 타입 반환\n",
    "- 텐서 안에 다른 데이터 타입은 사용할 수 없음"
   ]
  },
  {
   "cell_type": "code",
   "execution_count": 70,
   "id": "5194df63-7570-4826-b4e3-8eb2429445a6",
   "metadata": {},
   "outputs": [
    {
     "data": {
      "text/plain": [
       "torch.int64"
      ]
     },
     "execution_count": 70,
     "metadata": {},
     "output_type": "execute_result"
    }
   ],
   "source": [
    "a.dtype"
   ]
  },
  {
   "cell_type": "markdown",
   "id": "6a67d735-bf2a-4e59-b1f8-5f0307450a3f",
   "metadata": {},
   "source": [
    "- pytorch 자료형"
   ]
  },
  {
   "cell_type": "code",
   "execution_count": 5,
   "id": "e6881394-f956-40e3-8b84-62c0e18d009f",
   "metadata": {},
   "outputs": [],
   "source": [
    "# 자주 쓰는 것들 위주\n",
    "float_tensor = torch.ones(1, dtype=torch.float)\n",
    "double_tensor = torch.ones(1, dtype=torch.double)\n",
    "int_tensor = torch.ones(1, dtype=torch.int)\n",
    "long_tensor = torch.ones(1, dtype=torch.long)\n",
    "\n",
    "bool_tensor = torch.ones(1, dtype=torch.bool)"
   ]
  },
  {
   "cell_type": "markdown",
   "id": "a2d89f7c-b4e7-4d8d-9f17-621fd66f88a1",
   "metadata": {},
   "source": [
    "- `Tensor.device`현재 해당 tensor가 어느 device에 있는지 확인하는 방법"
   ]
  },
  {
   "cell_type": "code",
   "execution_count": 6,
   "id": "ed15c4c4-c50d-4ba8-b9bc-b3047e760136",
   "metadata": {},
   "outputs": [
    {
     "data": {
      "text/plain": [
       "device(type='cpu')"
      ]
     },
     "execution_count": 6,
     "metadata": {},
     "output_type": "execute_result"
    }
   ],
   "source": [
    "a= torch.tensor([1, 2, 3, 4, 5])\n",
    "a.device"
   ]
  },
  {
   "cell_type": "code",
   "execution_count": 7,
   "id": "984b0102-05a2-4727-9dae-deaa84d45aba",
   "metadata": {},
   "outputs": [
    {
     "data": {
      "text/plain": [
       "True"
      ]
     },
     "execution_count": 7,
     "metadata": {},
     "output_type": "execute_result"
    }
   ],
   "source": [
    "# 지금 GPU를 사용할 수 있는 환경인지를 확인\n",
    "torch.cuda.is_available()"
   ]
  },
  {
   "cell_type": "code",
   "execution_count": 8,
   "id": "9f2023cb-e0a7-45b1-abb4-be6e17d7b744",
   "metadata": {},
   "outputs": [
    {
     "data": {
      "text/plain": [
       "1"
      ]
     },
     "execution_count": 8,
     "metadata": {},
     "output_type": "execute_result"
    }
   ],
   "source": [
    "# 사용 가능 GPU 개수 체크\n",
    "torch.cuda.device_count()"
   ]
  },
  {
   "cell_type": "code",
   "execution_count": 17,
   "id": "376b6d29-6323-4cf0-9bf0-60e2a7eb8080",
   "metadata": {},
   "outputs": [],
   "source": [
    "# 텐서를 gpu에 할당\n",
    "a = torch.tensor([1., 2., 3.]).cuda()\n",
    "b = torch.tensor([1., 2., 3.]).to(\"cuda\")"
   ]
  },
  {
   "cell_type": "code",
   "execution_count": 21,
   "id": "a4c892e1-2f67-4507-816b-0ac79757605e",
   "metadata": {},
   "outputs": [
    {
     "data": {
      "text/plain": [
       "device(type='cuda', index=0)"
      ]
     },
     "execution_count": 21,
     "metadata": {},
     "output_type": "execute_result"
    }
   ],
   "source": [
    "a.device"
   ]
  },
  {
   "cell_type": "markdown",
   "id": "3b0d6795-edb6-4923-977f-538f809f82df",
   "metadata": {},
   "source": [
    "전에 **a.device**를 실행하였을 때 **cpu**로 할당되었지만 `.cuda()`를 선언하고 **gpu**로 할당되어진다."
   ]
  },
  {
   "cell_type": "markdown",
   "id": "3350663e-6d47-44ef-8615-f83e1c8a3f4a",
   "metadata": {},
   "source": [
    "## 4. Tensor Aggregation : element-wise 연산, min, max, mean"
   ]
  },
  {
   "cell_type": "markdown",
   "id": "a77de500-da37-4182-92aa-e78d5d84d358",
   "metadata": {},
   "source": [
    "- `element-wise 연산`  \n",
    "텐서의 같은 자리 원소들끼리 산술 연산"
   ]
  },
  {
   "cell_type": "code",
   "execution_count": 23,
   "id": "7a6a4243-8632-4afc-9d56-42d105366994",
   "metadata": {},
   "outputs": [
    {
     "name": "stdout",
     "output_type": "stream",
     "text": [
      "tensor([[1, 2],\n",
      "        [3, 4]])\n",
      "tensor([[5, 6],\n",
      "        [7, 8]])\n",
      "tensor([[ 6,  8],\n",
      "        [10, 12]])\n",
      "tensor([[-4, -4],\n",
      "        [-4, -4]])\n",
      "tensor([[ 5, 12],\n",
      "        [21, 32]])\n",
      "tensor([[0.2000, 0.3333],\n",
      "        [0.4286, 0.5000]])\n"
     ]
    }
   ],
   "source": [
    "a = torch.tensor([[1, 2], [3, 4]])\n",
    "b = torch.tensor([[5, 6], [7, 8]])\n",
    "print(a)\n",
    "print(b)\n",
    "print(a + b)\n",
    "print(a - b)\n",
    "print(a * b)\n",
    "print(a / b)"
   ]
  },
  {
   "cell_type": "code",
   "execution_count": 24,
   "id": "0da4653f-fced-4ade-87c7-eca1c5a8c713",
   "metadata": {},
   "outputs": [
    {
     "name": "stdout",
     "output_type": "stream",
     "text": [
      "tensor([[ 6,  8],\n",
      "        [10, 12]])\n",
      "tensor([[-4, -4],\n",
      "        [-4, -4]])\n",
      "tensor([[ 5, 12],\n",
      "        [21, 32]])\n",
      "tensor([[0.2000, 0.3333],\n",
      "        [0.4286, 0.5000]])\n"
     ]
    }
   ],
   "source": [
    "print(a.add(b))\n",
    "print(a.sub(b))\n",
    "print(a.mul(b))\n",
    "print(a.div(b))"
   ]
  },
  {
   "cell_type": "markdown",
   "id": "8943be15-b1e7-4ea3-b1c4-e8e2b637e04c",
   "metadata": {},
   "source": [
    "**add, sub, mul, div** 이용하여 계산하여도 똑같은 출력이 나온다."
   ]
  },
  {
   "cell_type": "markdown",
   "id": "b896c93d-3ad8-454d-8bb5-a835adb92f77",
   "metadata": {},
   "source": [
    "- `inplace 연산`  \n",
    "함수 뒤에 _를 붙이면 자기 자신의 값을 바꾸게 된다.  \n",
    "연산 결과를 반환하면서 동시에 자기 자신의 데이터를 고친다."
   ]
  },
  {
   "cell_type": "code",
   "execution_count": 26,
   "id": "8d036753-3df5-461e-88f7-88daf347a28d",
   "metadata": {},
   "outputs": [
    {
     "name": "stdout",
     "output_type": "stream",
     "text": [
      "tensor([[ 6,  8],\n",
      "        [10, 12]])\n",
      "tensor([[1, 2],\n",
      "        [3, 4]])\n",
      "tensor([[ 6,  8],\n",
      "        [10, 12]])\n",
      "tensor([[ 6,  8],\n",
      "        [10, 12]])\n"
     ]
    }
   ],
   "source": [
    "print(a.add(b))\n",
    "print(a)\n",
    "print(a.add_(b))\n",
    "print(a)"
   ]
  },
  {
   "cell_type": "markdown",
   "id": "7496e5f7-86ad-4ed4-be8d-da17227c47f0",
   "metadata": {},
   "source": [
    "보통 같으면 재선언 하는 방식으로 a = a.add(b)를 사용하겠지만  \n",
    "인플레이스를 통해 선언없이 a.add_(b) 한방에 처리할 수 있다."
   ]
  },
  {
   "cell_type": "markdown",
   "id": "1399d77c-227e-46e8-afe1-ef4caed6942b",
   "metadata": {},
   "source": [
    "- `Tensor.min()` 가장 작은 값 반환, 차원을 넣어주면 해당 차원에서 가장 작은 값들과 그 값들의 위치를 함께 리턴\n",
    "- `Tensor.max()` 가장 큰 값 반환, 차원을 넣어주면 해당 차원에서 가장 큰 값들과 그 값들의 위치를 함께 리턴"
   ]
  },
  {
   "cell_type": "code",
   "execution_count": 56,
   "id": "7aed152f-9f79-4d08-97b2-69f1784efaa8",
   "metadata": {},
   "outputs": [
    {
     "name": "stdout",
     "output_type": "stream",
     "text": [
      "tensor([[3, 1, 4],\n",
      "        [2, 4, 5]])\n",
      "\n",
      "torch.Size([2, 3])\n"
     ]
    }
   ],
   "source": [
    "a = torch.tensor([[3, 1, 4], [2, 4, 5]])\n",
    "print(a)\n",
    "print()\n",
    "print(a.shape)"
   ]
  },
  {
   "cell_type": "code",
   "execution_count": 54,
   "id": "ff41f1a8-c8f2-487e-9430-62765453ffe3",
   "metadata": {},
   "outputs": [
    {
     "name": "stdout",
     "output_type": "stream",
     "text": [
      "tensor(1)\n",
      "\n",
      "torch.return_types.min(\n",
      "values=tensor([2, 1, 4]),\n",
      "indices=tensor([1, 0, 0]))\n",
      "\n",
      "torch.return_types.min(\n",
      "values=tensor([1, 2]),\n",
      "indices=tensor([1, 0]))\n"
     ]
    }
   ],
   "source": [
    "print(a.min())\n",
    "print()\n",
    "print(a.min(dim=0))\n",
    "print()\n",
    "print(a.min(dim=1))"
   ]
  },
  {
   "cell_type": "code",
   "execution_count": 55,
   "id": "a664759e-4670-47e7-8c3f-479d062c4ac0",
   "metadata": {},
   "outputs": [
    {
     "name": "stdout",
     "output_type": "stream",
     "text": [
      "tensor(5)\n",
      "\n",
      "torch.return_types.max(\n",
      "values=tensor([3, 4, 5]),\n",
      "indices=tensor([0, 1, 1]))\n",
      "\n",
      "torch.return_types.max(\n",
      "values=tensor([4, 5]),\n",
      "indices=tensor([2, 2]))\n"
     ]
    }
   ],
   "source": [
    "print(a.max())\n",
    "print()\n",
    "print(a.max(dim=0))\n",
    "print()\n",
    "print(a.max(dim=1))"
   ]
  },
  {
   "cell_type": "code",
   "execution_count": null,
   "id": "ac4525f6-e20e-40db-b9a8-892066d0a22d",
   "metadata": {},
   "outputs": [],
   "source": []
  }
 ],
 "metadata": {
  "kernelspec": {
   "display_name": "Python (pytorch_env)",
   "language": "python",
   "name": "pytorch_env"
  },
  "language_info": {
   "codemirror_mode": {
    "name": "ipython",
    "version": 3
   },
   "file_extension": ".py",
   "mimetype": "text/x-python",
   "name": "python",
   "nbconvert_exporter": "python",
   "pygments_lexer": "ipython3",
   "version": "3.10.18"
  }
 },
 "nbformat": 4,
 "nbformat_minor": 5
}
